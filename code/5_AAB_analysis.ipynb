{
 "cells": [
  {
   "cell_type": "code",
   "execution_count": 2,
   "id": "cc544e25-b0b7-49e7-9645-f2240f064924",
   "metadata": {},
   "outputs": [],
   "source": [
    "import pandas as pd\n",
    "import pandahouse as ph\n",
    "import scipy.stats as stats\n",
    "import seaborn as sns\n",
    "import numpy as np\n",
    "import karpov_secrets as ks"
   ]
  },
  {
   "cell_type": "code",
   "execution_count": 3,
   "id": "98807c84-490a-43d9-b31c-f76fe06ab115",
   "metadata": {},
   "outputs": [],
   "source": [
    "#параметры соединения\n",
    "connection = ks.connection"
   ]
  },
  {
   "cell_type": "markdown",
   "id": "116f8a02-78d5-43c5-8118-d1a434d0ca3b",
   "metadata": {
    "tags": []
   },
   "source": [
    "# А\\А тест"
   ]
  },
  {
   "cell_type": "code",
   "execution_count": 4,
   "id": "8d4d191d-1fbf-47b2-8695-02a441246481",
   "metadata": {},
   "outputs": [],
   "source": [
    "#текст запроса\n",
    "query = '''\n",
    "select user_id, exp_group,\n",
    "countIf(action = 'view') as views,\n",
    "countIf(action = 'like') as likes,\n",
    "likes/views as ctr\n",
    "from {db}.feed_actions\n",
    "where (toDate(time) between '2023-07-23' and '2023-07-29') and (exp_group in (2,3))\n",
    "group by user_id, exp_group\n",
    "'''\n",
    "\n",
    "# эта функция выполнит запрос и запишет его результат в pandas DataFrame\n",
    "df = ph.read_clickhouse(query, connection=connection)"
   ]
  },
  {
   "cell_type": "code",
   "execution_count": 5,
   "id": "46d1a0a6-7149-4255-8fc0-1651056d97b3",
   "metadata": {
    "scrolled": true
   },
   "outputs": [
    {
     "data": {
      "text/html": [
       "<div>\n",
       "<style scoped>\n",
       "    .dataframe tbody tr th:only-of-type {\n",
       "        vertical-align: middle;\n",
       "    }\n",
       "\n",
       "    .dataframe tbody tr th {\n",
       "        vertical-align: top;\n",
       "    }\n",
       "\n",
       "    .dataframe thead th {\n",
       "        text-align: right;\n",
       "    }\n",
       "</style>\n",
       "<table border=\"1\" class=\"dataframe\">\n",
       "  <thead>\n",
       "    <tr style=\"text-align: right;\">\n",
       "      <th></th>\n",
       "      <th>user_id</th>\n",
       "      <th>exp_group</th>\n",
       "      <th>views</th>\n",
       "      <th>likes</th>\n",
       "      <th>ctr</th>\n",
       "    </tr>\n",
       "  </thead>\n",
       "  <tbody>\n",
       "    <tr>\n",
       "      <th>0</th>\n",
       "      <td>115383</td>\n",
       "      <td>3</td>\n",
       "      <td>248</td>\n",
       "      <td>38</td>\n",
       "      <td>0.153226</td>\n",
       "    </tr>\n",
       "    <tr>\n",
       "      <th>1</th>\n",
       "      <td>10326</td>\n",
       "      <td>3</td>\n",
       "      <td>132</td>\n",
       "      <td>24</td>\n",
       "      <td>0.181818</td>\n",
       "    </tr>\n",
       "    <tr>\n",
       "      <th>2</th>\n",
       "      <td>123580</td>\n",
       "      <td>3</td>\n",
       "      <td>122</td>\n",
       "      <td>25</td>\n",
       "      <td>0.204918</td>\n",
       "    </tr>\n",
       "    <tr>\n",
       "      <th>3</th>\n",
       "      <td>131473</td>\n",
       "      <td>2</td>\n",
       "      <td>98</td>\n",
       "      <td>19</td>\n",
       "      <td>0.193878</td>\n",
       "    </tr>\n",
       "    <tr>\n",
       "      <th>4</th>\n",
       "      <td>23985</td>\n",
       "      <td>2</td>\n",
       "      <td>44</td>\n",
       "      <td>12</td>\n",
       "      <td>0.272727</td>\n",
       "    </tr>\n",
       "  </tbody>\n",
       "</table>\n",
       "</div>"
      ],
      "text/plain": [
       "   user_id  exp_group  views  likes       ctr\n",
       "0   115383          3    248     38  0.153226\n",
       "1    10326          3    132     24  0.181818\n",
       "2   123580          3    122     25  0.204918\n",
       "3   131473          2     98     19  0.193878\n",
       "4    23985          2     44     12  0.272727"
      ]
     },
     "execution_count": 5,
     "metadata": {},
     "output_type": "execute_result"
    }
   ],
   "source": [
    "df.head()"
   ]
  },
  {
   "cell_type": "code",
   "execution_count": 5,
   "id": "e8e16a72-7124-4d95-894b-7db941fb47d2",
   "metadata": {
    "scrolled": true
   },
   "outputs": [
    {
     "data": {
      "text/plain": [
       "exp_group\n",
       "3    8425\n",
       "2    8362\n",
       "Name: count, dtype: int64"
      ]
     },
     "execution_count": 5,
     "metadata": {},
     "output_type": "execute_result"
    }
   ],
   "source": [
    "df.exp_group.value_counts()"
   ]
  },
  {
   "cell_type": "code",
   "execution_count": 6,
   "id": "6c278a3e-c26a-41ab-a560-b16fd9409f64",
   "metadata": {},
   "outputs": [
    {
     "data": {
      "text/plain": [
       "0.0447"
      ]
     },
     "execution_count": 6,
     "metadata": {},
     "output_type": "execute_result"
    }
   ],
   "source": [
    "np.random.seed(seed=499)\n",
    "sample_size = 500\n",
    "N = 10000\n",
    "p_values=[]\n",
    "for _ in range(N):\n",
    "    p = stats.ttest_ind(df[df.exp_group==2].ctr.sample(sample_size),\n",
    "                df[df.exp_group==3].ctr.sample(sample_size),\n",
    "                equal_var=False)[1]\n",
    "    \n",
    "    p_values.append(p)\n",
    "\n",
    "( pd.Series(p_values) <= 0.05 ).mean()"
   ]
  },
  {
   "cell_type": "code",
   "execution_count": 12,
   "id": "38de5b5c-14c3-489d-bc7a-d756220fef7a",
   "metadata": {},
   "outputs": [
    {
     "data": {
      "image/png": "[encoded data removed]",
      "text/plain": [
       "<Figure size 914.4x667.44 with 1 Axes>"
      ]
     },
     "metadata": {},
     "output_type": "display_data"
    }
   ],
   "source": [
    "sns.set(rc={'figure.figsize':(12.7,9.27)})\n",
    "\n",
    "groups = sns.histplot(p_values, bins=20, stat='probability', kde=False)"
   ]
  },
  {
   "cell_type": "markdown",
   "id": "3950be02-a07a-4fb7-8570-73eafce058ca",
   "metadata": {},
   "source": [
    "4.47% значений p-value оказались меньше 0.05, то есть полученный уроень ошибки первого рода меньше заданного порога. Распределние p-value равномерное (хотя нам конечно важнее как оно ведет себя возле 0). Вобщем система сплитования работает нормально"
   ]
  },
  {
   "cell_type": "markdown",
   "id": "78025b17-cad4-48cd-9f65-530e0e1cbd84",
   "metadata": {},
   "source": [
    "# А\\Б тест"
   ]
  },
  {
   "cell_type": "code",
   "execution_count": 13,
   "id": "9284e6aa-4d9d-4671-af33-3b8fc8b78c62",
   "metadata": {},
   "outputs": [],
   "source": [
    "query_ab = '''\n",
    "select user_id, exp_group,\n",
    "countIf(action = 'view') as views,\n",
    "countIf(action = 'like') as likes,\n",
    "likes/views as ctr\n",
    "from {db}.feed_actions\n",
    "where (toDate(time) between '2023-07-30' and '2023-08-05') and (exp_group in (1,2))\n",
    "group by user_id, exp_group\n",
    "'''\n",
    "\n",
    "# эта функция выполнит запрос и запишет его результат в pandas DataFrame\n",
    "df_ab = ph.read_clickhouse(query_ab, connection=connection)"
   ]
  },
  {
   "cell_type": "code",
   "execution_count": 14,
   "id": "fbedef67-0377-4448-826e-bd39143d5ba8",
   "metadata": {},
   "outputs": [
    {
     "data": {
      "text/html": [
       "<div>\n",
       "<style scoped>\n",
       "    .dataframe tbody tr th:only-of-type {\n",
       "        vertical-align: middle;\n",
       "    }\n",
       "\n",
       "    .dataframe tbody tr th {\n",
       "        vertical-align: top;\n",
       "    }\n",
       "\n",
       "    .dataframe thead th {\n",
       "        text-align: right;\n",
       "    }\n",
       "</style>\n",
       "<table border=\"1\" class=\"dataframe\">\n",
       "  <thead>\n",
       "    <tr style=\"text-align: right;\">\n",
       "      <th></th>\n",
       "      <th>user_id</th>\n",
       "      <th>exp_group</th>\n",
       "      <th>views</th>\n",
       "      <th>likes</th>\n",
       "      <th>ctr</th>\n",
       "    </tr>\n",
       "  </thead>\n",
       "  <tbody>\n",
       "    <tr>\n",
       "      <th>0</th>\n",
       "      <td>109963</td>\n",
       "      <td>1</td>\n",
       "      <td>15</td>\n",
       "      <td>3</td>\n",
       "      <td>0.200000</td>\n",
       "    </tr>\n",
       "    <tr>\n",
       "      <th>1</th>\n",
       "      <td>26117</td>\n",
       "      <td>1</td>\n",
       "      <td>141</td>\n",
       "      <td>32</td>\n",
       "      <td>0.226950</td>\n",
       "    </tr>\n",
       "    <tr>\n",
       "      <th>2</th>\n",
       "      <td>138232</td>\n",
       "      <td>1</td>\n",
       "      <td>73</td>\n",
       "      <td>18</td>\n",
       "      <td>0.246575</td>\n",
       "    </tr>\n",
       "    <tr>\n",
       "      <th>3</th>\n",
       "      <td>18392</td>\n",
       "      <td>1</td>\n",
       "      <td>32</td>\n",
       "      <td>7</td>\n",
       "      <td>0.218750</td>\n",
       "    </tr>\n",
       "    <tr>\n",
       "      <th>4</th>\n",
       "      <td>26295</td>\n",
       "      <td>1</td>\n",
       "      <td>141</td>\n",
       "      <td>39</td>\n",
       "      <td>0.276596</td>\n",
       "    </tr>\n",
       "  </tbody>\n",
       "</table>\n",
       "</div>"
      ],
      "text/plain": [
       "   user_id  exp_group  views  likes       ctr\n",
       "0   109963          1     15      3  0.200000\n",
       "1    26117          1    141     32  0.226950\n",
       "2   138232          1     73     18  0.246575\n",
       "3    18392          1     32      7  0.218750\n",
       "4    26295          1    141     39  0.276596"
      ]
     },
     "execution_count": 14,
     "metadata": {},
     "output_type": "execute_result"
    }
   ],
   "source": [
    "df_ab.head()"
   ]
  },
  {
   "cell_type": "code",
   "execution_count": 15,
   "id": "765b2c11-7b8e-4c7b-84e3-dae2aded5122",
   "metadata": {},
   "outputs": [
    {
     "data": {
      "text/plain": [
       "exp_group\n",
       "1    10020\n",
       "2     9877\n",
       "Name: count, dtype: int64"
      ]
     },
     "execution_count": 15,
     "metadata": {},
     "output_type": "execute_result"
    }
   ],
   "source": [
    "df_ab.exp_group.value_counts()"
   ]
  },
  {
   "cell_type": "code",
   "execution_count": 16,
   "id": "47a01d6a-fb97-4176-a62b-30ca4ea9efb7",
   "metadata": {},
   "outputs": [
    {
     "data": {
      "text/plain": [
       "<Axes: xlabel='ctr', ylabel='Count'>"
      ]
     },
     "execution_count": 16,
     "metadata": {},
     "output_type": "execute_result"
    },
    {
     "data": {
      "image/png": "[encoded data removed]",
      "text/plain": [
       "<Figure size 914.4x667.44 with 1 Axes>"
      ]
     },
     "metadata": {},
     "output_type": "display_data"
    }
   ],
   "source": [
    "sns.histplot(data = df_ab, \n",
    "              x='ctr', \n",
    "              hue='exp_group', \n",
    "              palette = ['r', 'b'],\n",
    "              alpha=0.5,\n",
    "              kde=False)"
   ]
  },
  {
   "cell_type": "code",
   "execution_count": 17,
   "id": "ee8d11d0-55cd-45f2-9676-6084f6e7a550",
   "metadata": {},
   "outputs": [
    {
     "data": {
      "text/plain": [
       "exp_group\n",
       "1    0.216774\n",
       "2    0.216102\n",
       "Name: ctr, dtype: float64"
      ]
     },
     "execution_count": 17,
     "metadata": {},
     "output_type": "execute_result"
    }
   ],
   "source": [
    "df_ab.groupby(df_ab.exp_group).ctr.mean()"
   ]
  },
  {
   "cell_type": "markdown",
   "id": "1418ef94-16cc-4f2e-9393-004f09eec613",
   "metadata": {},
   "source": [
    "### t-test"
   ]
  },
  {
   "cell_type": "code",
   "execution_count": 18,
   "id": "1cc79b1f-406a-4daa-886f-d065eb11adde",
   "metadata": {},
   "outputs": [
    {
     "data": {
      "text/plain": [
       "Ttest_indResult(statistic=0.4051491913112757, pvalue=0.685373331140751)"
      ]
     },
     "execution_count": 18,
     "metadata": {},
     "output_type": "execute_result"
    }
   ],
   "source": [
    "stats.ttest_ind(df_ab[df_ab.exp_group==1].ctr,\n",
    "                df_ab[df_ab.exp_group==2].ctr,\n",
    "                equal_var=False)"
   ]
  },
  {
   "cell_type": "markdown",
   "id": "b87e1270-4c64-4c74-893b-79b6c02864e0",
   "metadata": {},
   "source": [
    "p-value=0.68, что гораздо выше 0.05, значит у нас недостаточно оснований для отклонения нулевой гипотезы о равенстве средних.\n",
    "\n",
    "Проблема в том, что распределение ctr юзеров с новым алгоритмом бимодальное (далеко от нормального), а значит t-test применять нельзя (как я думаю из-за того, что он неправильно оценивает дисперсию, завышая ее, и не может различить средние ctr, отличающиеся в 4 знаке после запятой )"
   ]
  },
  {
   "cell_type": "markdown",
   "id": "6bf7894c-d657-4255-89e3-2d22782ea5c6",
   "metadata": {},
   "source": [
    "### тест Манна-Уитни"
   ]
  },
  {
   "cell_type": "code",
   "execution_count": 19,
   "id": "9b766429-e16b-4a4c-a3f0-3e88e27d5441",
   "metadata": {},
   "outputs": [
    {
     "data": {
      "text/plain": [
       "MannwhitneyuResult(statistic=55189913.0, pvalue=4.632205841806026e-45)"
      ]
     },
     "execution_count": 19,
     "metadata": {},
     "output_type": "execute_result"
    }
   ],
   "source": [
    "stats.mannwhitneyu(df_ab[df_ab.exp_group==1].ctr,\n",
    "                df_ab[df_ab.exp_group==2].ctr)"
   ]
  },
  {
   "cell_type": "markdown",
   "id": "1722cfc8-c5c2-4f6f-8bfb-41149fd38f3c",
   "metadata": {},
   "source": [
    "p-value практически равно 0, значит наша тестовая выборка с новым алгоритмом стат значимо отличается от конрольной по признаку ctr при a=0.05\n",
    "\n",
    "Собственно, это было видно на гистограмме ctr - отличие распределений (а значит и выборок) видно невооруженным глазом"
   ]
  },
  {
   "cell_type": "markdown",
   "id": "31203a00-7c7a-4e1f-91e5-a534dbc9a343",
   "metadata": {},
   "source": [
    "### Пуассоновский бутстрап"
   ]
  },
  {
   "cell_type": "code",
   "execution_count": 20,
   "id": "6139f5bf-e407-4e64-9833-3fb5309893c7",
   "metadata": {},
   "outputs": [],
   "source": [
    "def bootstrap(likes1, views1, likes2, views2, n_bootstrap=2000):\n",
    "\n",
    "    poisson_bootstraps1 = stats.poisson(1).rvs(\n",
    "        (n_bootstrap, len(likes1))).astype(np.int64)\n",
    "\n",
    "    poisson_bootstraps2 = stats.poisson(1).rvs(\n",
    "            (n_bootstrap, len(likes2))).astype(np.int64)\n",
    "    \n",
    "    globalCTR1 = (poisson_bootstraps1*likes1).sum(axis=1)/(poisson_bootstraps1*views1).sum(axis=1)\n",
    "    \n",
    "    globalCTR2 = (poisson_bootstraps2*likes2).sum(axis=1)/(poisson_bootstraps2*views2).sum(axis=1)\n",
    "\n",
    "    return globalCTR1, globalCTR2"
   ]
  },
  {
   "cell_type": "code",
   "execution_count": 21,
   "id": "396d42aa-e9a6-4be4-b461-6f44ce6a38ac",
   "metadata": {},
   "outputs": [
    {
     "data": {
      "text/plain": [
       "<Axes: ylabel='Count'>"
      ]
     },
     "execution_count": 21,
     "metadata": {},
     "output_type": "execute_result"
    },
    {
     "data": {
      "image/png": "[encoded data removed]",
      "text/plain": [
       "<Figure size 914.4x667.44 with 1 Axes>"
      ]
     },
     "metadata": {},
     "output_type": "display_data"
    }
   ],
   "source": [
    "likes1 = df_ab[df_ab.exp_group == 1].likes.to_numpy()\n",
    "views1 = df_ab[df_ab.exp_group == 1].views.to_numpy()\n",
    "likes2 = df_ab[df_ab.exp_group == 2].likes.to_numpy()\n",
    "views2 = df_ab[df_ab.exp_group == 2].views.to_numpy()\n",
    "\n",
    "np.random.seed(499)\n",
    "ctr1, ctr2 = bootstrap(likes1, views1, likes2, views2)\n",
    "\n",
    "sns.histplot(ctr1)\n",
    "sns.histplot(ctr2)"
   ]
  },
  {
   "cell_type": "code",
   "execution_count": 22,
   "id": "8b3b2ea5-fea6-4716-8c0b-d9c903fd2acc",
   "metadata": {},
   "outputs": [
    {
     "name": "stdout",
     "output_type": "stream",
     "text": [
      "[-0.01223609 -0.00621085] -0.009332538249236478\n"
     ]
    },
    {
     "data": {
      "image/png": "[encoded data removed]",
      "text/plain": [
       "<Figure size 914.4x667.44 with 1 Axes>"
      ]
     },
     "metadata": {},
     "output_type": "display_data"
    }
   ],
   "source": [
    "#Разница между глобальными CTR\n",
    "\n",
    "sns.histplot(ctr2 - ctr1)\n",
    "print(np.quantile(ctr2 - ctr1, [0.025, 0.975]), np.mean(ctr2 - ctr1))"
   ]
  },
  {
   "cell_type": "code",
   "execution_count": 23,
   "id": "56276111-a994-403d-95bd-ecb6771eae5b",
   "metadata": {},
   "outputs": [
    {
     "name": "stdout",
     "output_type": "stream",
     "text": [
      "0.2096041628394293 0.20025051027061783\n"
     ]
    }
   ],
   "source": [
    "global_ctr_1 = df_ab[df_ab.exp_group == 1].likes.sum()/df_ab[df_ab.exp_group == 1].views.sum()\n",
    "global_ctr_2 = df_ab[df_ab.exp_group == 2].likes.sum()/df_ab[df_ab.exp_group == 2].views.sum()\n",
    "print(global_ctr_1, global_ctr_2)"
   ]
  },
  {
   "cell_type": "markdown",
   "id": "e6dc5eaf-59c5-44b3-9223-53b7a8fb3d36",
   "metadata": {},
   "source": [
    "Бутстрап позволил получить распределение для глобального CTR, которое согласно ЦПТ приобрело нормальную форму. Вычтя полученные выборки, мы получили распределение для разниц между глобальными CTR с 95% доверитльеным интервалом [-0.012, -0.006] и средним -0.009. Доверительный интервал не включает 0 и указывает на то, что в среднем CTR в контрольной группе выше, чем в тестовой на 0.009 (4.5% от тестового ctr); то есть новым алгоритмом мы понизили общую вовлеченность пользователей"
   ]
  },
  {
   "cell_type": "markdown",
   "id": "8f7cb83a-3cdd-4d6e-acdf-9e086264513d",
   "metadata": {},
   "source": [
    "### Сглаженный CTR"
   ]
  },
  {
   "cell_type": "code",
   "execution_count": 24,
   "id": "398b2d96-373c-4c5a-9513-e50e0b836be1",
   "metadata": {},
   "outputs": [],
   "source": [
    "def get_smothed_ctr(user_likes, user_views, global_ctr, alpha):\n",
    "    smothed_ctr = (user_likes + alpha * global_ctr) / (user_views + alpha)\n",
    "    return smothed_ctr"
   ]
  },
  {
   "cell_type": "code",
   "execution_count": 25,
   "id": "90d433fd-d5b3-485f-932f-abd9e8998110",
   "metadata": {},
   "outputs": [],
   "source": [
    "group1 = df_ab[df_ab.exp_group == 1].copy()\n",
    "group2 = df_ab[df_ab.exp_group == 2].copy()"
   ]
  },
  {
   "cell_type": "code",
   "execution_count": 26,
   "id": "d516a365-7b75-431e-b08d-b9b3e5e9b799",
   "metadata": {},
   "outputs": [
    {
     "data": {
      "text/plain": [
       "<Axes: xlabel='smothed_ctr', ylabel='Count'>"
      ]
     },
     "execution_count": 26,
     "metadata": {},
     "output_type": "execute_result"
    },
    {
     "data": {
      "image/png": "[encoded data removed]",
      "text/plain": [
       "<Figure size 914.4x667.44 with 1 Axes>"
      ]
     },
     "metadata": {},
     "output_type": "display_data"
    }
   ],
   "source": [
    "group1['smothed_ctr'] = df_ab.apply(\n",
    "    lambda x: get_smothed_ctr(x['likes'], x['views'], global_ctr_1, 5), axis=1)\n",
    "group2['smothed_ctr'] = df_ab.apply(\n",
    "    lambda x: get_smothed_ctr(x['likes'], x['views'], global_ctr_2, 5), axis=1)\n",
    "\n",
    "\n",
    "sns.histplot(group1.smothed_ctr, bins=50,\n",
    "             kde = False)\n",
    "sns.histplot(group2.smothed_ctr, bins=50,\n",
    "             kde = False)"
   ]
  },
  {
   "cell_type": "code",
   "execution_count": 27,
   "id": "4546ab0f-5fb3-4155-824a-ea32a5077185",
   "metadata": {},
   "outputs": [
    {
     "data": {
      "text/plain": [
       "Ttest_indResult(statistic=1.9460491517027683, pvalue=0.05166679015318526)"
      ]
     },
     "execution_count": 27,
     "metadata": {},
     "output_type": "execute_result"
    }
   ],
   "source": [
    "stats.ttest_ind(group1['smothed_ctr'],\n",
    "                group2['smothed_ctr'],\n",
    "                equal_var=False)"
   ]
  },
  {
   "cell_type": "code",
   "execution_count": 28,
   "id": "c9ae4fcd-acd0-4300-8a69-c1e1b3f179c8",
   "metadata": {},
   "outputs": [
    {
     "name": "stdout",
     "output_type": "stream",
     "text": [
      "0.21527988017565183 0.21250810594606076\n",
      "0.2096041628394293 0.20025051027061783\n"
     ]
    }
   ],
   "source": [
    "print(group1['smothed_ctr'].mean(), group2['smothed_ctr'].mean())\n",
    "print(global_ctr_1, global_ctr_2)"
   ]
  },
  {
   "cell_type": "markdown",
   "id": "4d82b5cb-4e02-409b-87e3-8470074f512f",
   "metadata": {},
   "source": [
    "CTR был 0.2167 и 0.2161, сглаженный стал 0.2152 и 0.2125 CTR в контроле и тесте соотвественно, то есть сглаживание как бы растащило средние CTR дальше друг от друга, что практически позволило t-test'у заметить разницу в средних (p-value=0.051). С другой стороны это никак не повлияло на бимодальную форму распределения тестовго CTR, так что результаты t-test все равно нельзя было бы использовать для принятия решения о выкатке нового алгортима"
   ]
  },
  {
   "cell_type": "markdown",
   "id": "2f22b394-3630-4e45-975c-3c14068ce989",
   "metadata": {},
   "source": [
    "### Бакетное преобразование"
   ]
  },
  {
   "cell_type": "code",
   "execution_count": 29,
   "id": "b840657e-5eb4-419d-a89c-351b69d754d0",
   "metadata": {},
   "outputs": [],
   "source": [
    "q_backet = \"\"\"\n",
    "\n",
    "SELECT exp_group, bucket,\n",
    "    sum(likes)/sum(views) as bucket_ctr,\n",
    "    quantileExact(0.9)(ctr) as ctr9\n",
    "FROM (SELECT exp_group, \n",
    "        xxHash64(user_id)%50 as bucket,\n",
    "        user_id,\n",
    "        sum(action = 'like') as likes,\n",
    "        sum(action = 'view') as views,\n",
    "        likes/views as ctr\n",
    "    FROM {db}.feed_actions \n",
    "    WHERE (toDate(time) between '2023-07-30' and '2023-08-05') and (exp_group in (1,2))\n",
    "    GROUP BY exp_group, bucket, user_id)\n",
    "GROUP BY exp_group, bucket\n",
    "\"\"\"\n",
    "\n",
    "df_backet = ph.read_clickhouse(q_backet, connection=connection)"
   ]
  },
  {
   "cell_type": "code",
   "execution_count": 30,
   "id": "13423a8b-633a-4d0f-ac10-3aa1e582ce1e",
   "metadata": {},
   "outputs": [
    {
     "data": {
      "text/plain": [
       "MannwhitneyuResult(statistic=1997.0, pvalue=2.6576427804010095e-07)"
      ]
     },
     "execution_count": 30,
     "metadata": {},
     "output_type": "execute_result"
    }
   ],
   "source": [
    "stats.mannwhitneyu(df_backet[df_backet.exp_group == 1].bucket_ctr, \n",
    "                   df_backet[df_backet.exp_group == 2].bucket_ctr, \n",
    "                   alternative = 'two-sided')"
   ]
  },
  {
   "cell_type": "code",
   "execution_count": 31,
   "id": "a39af61b-d21d-4123-bf16-8309ae1ff2fe",
   "metadata": {},
   "outputs": [
    {
     "data": {
      "text/plain": [
       "Ttest_indResult(statistic=5.614819358149381, pvalue=4.592644937473873e-07)"
      ]
     },
     "execution_count": 31,
     "metadata": {},
     "output_type": "execute_result"
    }
   ],
   "source": [
    "stats.ttest_ind(df_backet[df_backet.exp_group == 1].bucket_ctr, \n",
    "                   df_backet[df_backet.exp_group == 2].bucket_ctr, \n",
    "                   equal_var = False)"
   ]
  },
  {
   "cell_type": "code",
   "execution_count": 32,
   "id": "be5b5ff5-f94f-4d3a-b5f2-d4e1456eddf5",
   "metadata": {},
   "outputs": [
    {
     "data": {
      "text/plain": [
       "<Axes: xlabel='bucket_ctr', ylabel='Count'>"
      ]
     },
     "execution_count": 32,
     "metadata": {},
     "output_type": "execute_result"
    },
    {
     "data": {
      "image/png": "[encoded data removed]",
      "text/plain": [
       "<Figure size 914.4x667.44 with 1 Axes>"
      ]
     },
     "metadata": {},
     "output_type": "display_data"
    }
   ],
   "source": [
    "sns.histplot(df_backet[df_backet.exp_group == 1].bucket_ctr, bins=10)\n",
    "sns.histplot(df_backet[df_backet.exp_group == 2].bucket_ctr, bins=10)"
   ]
  },
  {
   "cell_type": "code",
   "execution_count": 33,
   "id": "93f2c2d9-1d1f-4b83-aba4-fd62052c5a98",
   "metadata": {},
   "outputs": [
    {
     "data": {
      "text/plain": [
       "<Axes: xlabel='ctr9', ylabel='Count'>"
      ]
     },
     "execution_count": 33,
     "metadata": {},
     "output_type": "execute_result"
    },
    {
     "data": {
      "image/png": "[encoded data removed]",
      "text/plain": [
       "<Figure size 914.4x667.44 with 1 Axes>"
      ]
     },
     "metadata": {},
     "output_type": "display_data"
    }
   ],
   "source": [
    "sns.histplot(df_backet[df_backet.exp_group == 1].ctr9)\n",
    "sns.histplot(df_backet[df_backet.exp_group == 2].ctr9)"
   ]
  },
  {
   "cell_type": "markdown",
   "id": "39087ccc-c459-48cf-96c9-b200fb09eb01",
   "metadata": {},
   "source": [
    "Бакетное преобразование +/- нормализовало распределение среднего ctr для тестовой группы - для каждого бакета среднее значение получалось где-то между двумя 'горбами' изначального распределения. И Манна-Уитни, и t-тест заметили стат значимое различие между выборками с p-value < 0.05.\n",
    "\n",
    "90-ый перцентиль, рассчитанный для тестовой группы по сути является отображением правого 'горба распределения', так как практически для каждого бакета выбор 90 перцентиля означал выбор значения метрики около правой моды. Можно сказать, что мы значимо улучшили вовлеченность топовый перцентилей, но, аналогично, ухудшили ctr низких перцентилей"
   ]
  },
  {
   "cell_type": "markdown",
   "id": "d2c29ad5-d5a3-4536-8d11-d01a6c016b29",
   "metadata": {},
   "source": [
    "### Вывод"
   ]
  },
  {
   "cell_type": "markdown",
   "id": "a173ef1f-c59b-4ebe-b258-f7c92dc2960c",
   "metadata": {},
   "source": [
    "После введения нового алгоритма, получившие его пользователи разделились на 2 группы - те кому понравился новый алгоритм, то есть им стали больше нравится рекомендуемые посты, и те, для кого новые реомендации стали неинтересными - отсюда бимодальное распределение CTR в тестовой группе.\n",
    "\n",
    "Я бы не стал раскатывать новый алгоритм на всех новых пользователей - глобальный CTR упал по сравнению с контрольной группой, то есть общая вовлеченность в продукт упала примерно на 4% и скорее всего метрика прибыли от нашего продукта также упадет. Во-вторых, юзеры с низким CTR могут покинуть наше приложение из-за плохий рекомендаций"
   ]
  },
  {
   "cell_type": "markdown",
   "id": "ab6489c0-6b79-4765-99de-72b8f2334919",
   "metadata": {},
   "source": [
    "# Линеаризация"
   ]
  },
  {
   "cell_type": "markdown",
   "id": "45a34a62-72e1-4db2-9b88-cf80c75e1dd3",
   "metadata": {},
   "source": [
    "### Для групп 1 и 2"
   ]
  },
  {
   "cell_type": "code",
   "execution_count": 34,
   "id": "e94818a0-c941-4bc4-84d5-4e2cc8418fe1",
   "metadata": {},
   "outputs": [],
   "source": [
    "df_ab['linearized_likes'] = df_ab.likes - global_ctr_1*df_ab.views"
   ]
  },
  {
   "cell_type": "code",
   "execution_count": 35,
   "id": "393dc9a6-cd8e-4400-b681-01aa578269b6",
   "metadata": {},
   "outputs": [
    {
     "data": {
      "text/plain": [
       "exp_group\n",
       "1   -2.696446e-16\n",
       "2   -6.245119e-01\n",
       "Name: linearized_likes, dtype: float64"
      ]
     },
     "execution_count": 35,
     "metadata": {},
     "output_type": "execute_result"
    }
   ],
   "source": [
    "df_ab.groupby(df_ab.exp_group).linearized_likes.mean()"
   ]
  },
  {
   "cell_type": "code",
   "execution_count": 36,
   "id": "348995fe-2777-4d06-a308-602ed5e2cc98",
   "metadata": {},
   "outputs": [
    {
     "data": {
      "text/plain": [
       "Ttest_indResult(statistic=5.93637710193448, pvalue=2.9805064038668164e-09)"
      ]
     },
     "execution_count": 36,
     "metadata": {},
     "output_type": "execute_result"
    }
   ],
   "source": [
    "stats.ttest_ind(df_ab[df_ab.exp_group==1].linearized_likes,\n",
    "                df_ab[df_ab.exp_group==2].linearized_likes,\n",
    "                equal_var=False)"
   ]
  },
  {
   "cell_type": "code",
   "execution_count": 37,
   "id": "71c3a599-aa1a-4293-a192-4de0a30ec658",
   "metadata": {},
   "outputs": [
    {
     "data": {
      "text/plain": [
       "<Axes: xlabel='linearized_likes', ylabel='Count'>"
      ]
     },
     "execution_count": 37,
     "metadata": {},
     "output_type": "execute_result"
    },
    {
     "data": {
      "image/png": "[encoded data removed]",
      "text/plain": [
       "<Figure size 914.4x667.44 with 1 Axes>"
      ]
     },
     "metadata": {},
     "output_type": "display_data"
    }
   ],
   "source": [
    "sns.histplot(df_ab[df_ab.exp_group == 1].linearized_likes, bins=20)\n",
    "sns.histplot(df_ab[df_ab.exp_group == 2].linearized_likes, bins=20)"
   ]
  },
  {
   "cell_type": "markdown",
   "id": "5f66de23-7cf1-46a1-8563-88a4d833f6b5",
   "metadata": {},
   "source": [
    "Линеаризация повысила чувствительность метрики, p-value t-теста оказался наименьшим из всех выше проведенных (обычным, сглаженным, бакетным) и гораздо меньше 0. Сохранилась направленность изменения метрики - контрольный CTR больше тестового и даже распределение новой лин. метрики оказалось номальным на вид для 2 группы (если поставить bins=20)"
   ]
  },
  {
   "cell_type": "markdown",
   "id": "6d438a71-fe58-451a-ab96-7c70c49fbe8d",
   "metadata": {},
   "source": [
    "### Для 0 и 3"
   ]
  },
  {
   "cell_type": "code",
   "execution_count": 38,
   "id": "9b0afac7-cc9e-4188-88b0-85c1755a0a75",
   "metadata": {},
   "outputs": [],
   "source": [
    "query_lin = '''\n",
    "WITH (\n",
    "select countIf(action = 'like') / countIf(action = 'view')\n",
    "from simulator_20230820.feed_actions\n",
    "where (toDate(time) between '2023-07-30' and '2023-08-05') and (exp_group =0)\n",
    ") as ctr_control\n",
    "\n",
    "select user_id, exp_group,\n",
    "countIf(action = 'like') - ctr_control*countIf(action = 'view') as linearized_likes,\n",
    "countIf(action = 'like') / countIf(action = 'view') as ctr\n",
    "from simulator_20230820.feed_actions\n",
    "where (toDate(time) between '2023-07-30' and '2023-08-05') and (exp_group in (0,3))\n",
    "group by user_id, exp_group\n",
    "'''\n",
    "\n",
    "# эта функция выполнит запрос и запишет его результат в pandas DataFrame\n",
    "df_lin = ph.read_clickhouse(query_lin, connection=connection)"
   ]
  },
  {
   "cell_type": "code",
   "execution_count": 39,
   "id": "a82488fe-0376-4ab9-b2f0-2a640a3749ec",
   "metadata": {},
   "outputs": [
    {
     "data": {
      "text/plain": [
       "Ttest_indResult(statistic=-13.935320516755773, pvalue=6.216047483062228e-44)"
      ]
     },
     "execution_count": 39,
     "metadata": {},
     "output_type": "execute_result"
    }
   ],
   "source": [
    "stats.ttest_ind(df_lin[df_lin.exp_group==0].ctr,\n",
    "                df_lin[df_lin.exp_group==3].ctr,\n",
    "                equal_var=False)"
   ]
  },
  {
   "cell_type": "code",
   "execution_count": 40,
   "id": "1fec3b0e-2319-4de1-b008-9de18fea288f",
   "metadata": {},
   "outputs": [
    {
     "data": {
      "text/plain": [
       "Ttest_indResult(statistic=-16.186230032932844, pvalue=1.4918137745326139e-58)"
      ]
     },
     "execution_count": 40,
     "metadata": {},
     "output_type": "execute_result"
    }
   ],
   "source": [
    "stats.ttest_ind(df_lin[df_lin.exp_group==0].linearized_likes,\n",
    "                df_lin[df_lin.exp_group==3].linearized_likes,\n",
    "                equal_var=False)"
   ]
  },
  {
   "cell_type": "code",
   "execution_count": 41,
   "id": "f523b5b3-8a4c-4130-bf4e-018b8d2165c7",
   "metadata": {},
   "outputs": [
    {
     "data": {
      "text/plain": [
       "<Axes: xlabel='ctr', ylabel='Count'>"
      ]
     },
     "execution_count": 41,
     "metadata": {},
     "output_type": "execute_result"
    },
    {
     "data": {
      "image/png": "[encoded data removed]",
      "text/plain": [
       "<Figure size 914.4x667.44 with 1 Axes>"
      ]
     },
     "metadata": {},
     "output_type": "display_data"
    }
   ],
   "source": [
    "sns.histplot(data = df_lin, \n",
    "              x='ctr', \n",
    "              hue='exp_group', \n",
    "              palette = ['r', 'b'],\n",
    "              alpha=0.5,\n",
    "              kde=False)"
   ]
  },
  {
   "cell_type": "code",
   "execution_count": 42,
   "id": "4299aa25-2abc-4ff8-a7ff-9dc3d9af325e",
   "metadata": {},
   "outputs": [
    {
     "data": {
      "text/plain": [
       "<Axes: xlabel='linearized_likes', ylabel='Count'>"
      ]
     },
     "execution_count": 42,
     "metadata": {},
     "output_type": "execute_result"
    },
    {
     "data": {
      "image/png": "[encoded data removed]",
      "text/plain": [
       "<Figure size 914.4x667.44 with 1 Axes>"
      ]
     },
     "metadata": {},
     "output_type": "display_data"
    }
   ],
   "source": [
    "sns.histplot(data = df_lin, \n",
    "              x='linearized_likes', \n",
    "              hue='exp_group', \n",
    "              palette = ['r', 'b'],\n",
    "              alpha=0.5,\n",
    "              kde=False)"
   ]
  },
  {
   "cell_type": "markdown",
   "id": "50dd0f76-e3f6-4591-b947-8cd4498c3759",
   "metadata": {},
   "source": [
    "Для групп 0 и 3 линеаризация также повысила чувствительность метрики, хотя p-value и так был гораздо меньше нуля. Возможно при дизайне следующего эксперемента, будет сразу выбрана линеаризованная метрика, тогда получится ускорить А\\Б тест во времени, либо проводить на меньшем кол-ве пользователей, не рискуя аудиторией, если изменение окажется ухудшающим"
   ]
  }
 ],
 "metadata": {
  "kernelspec": {
   "display_name": "Python 3 (ipykernel)",
   "language": "python",
   "name": "python3"
  },
  "language_info": {
   "codemirror_mode": {
    "name": "ipython",
    "version": 3
   },
   "file_extension": ".py",
   "mimetype": "text/x-python",
   "name": "python",
   "nbconvert_exporter": "python",
   "pygments_lexer": "ipython3",
   "version": "3.11.4"
  }
 },
 "nbformat": 4,
 "nbformat_minor": 5
}
